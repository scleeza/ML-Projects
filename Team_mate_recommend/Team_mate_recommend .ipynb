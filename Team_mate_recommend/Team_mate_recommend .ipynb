{
 "cells": [
  {
   "cell_type": "markdown",
   "metadata": {},
   "source": [
    "## Clustering using Kmodes"
   ]
  },
  {
   "cell_type": "markdown",
   "metadata": {},
   "source": [
    "#### Find teammates by using clustering way\n",
    "1. Kmodes is a clustering method focus on categorical data.\n",
    "2. Though we are trying to input categorical data, we still need to make sure that categorical numbers are kept in a certain range. Otherwise, the alogoritms may fall into extremely slow.\n",
    "3. The estimation is conducted by comparing cost value between variant number of clusters, the optimal point should see decreasing rate of cost started to slow.\n",
    "4. The results shows that 5 clusters is optimal.\n",
    "5. To improve team's background, I give other groups a small probability to be selected."
   ]
  },
  {
   "cell_type": "code",
   "execution_count": 1,
   "metadata": {},
   "outputs": [],
   "source": [
    "import numpy as np\n",
    "import pandas as pd\n",
    "import warnings\n",
    "warnings.filterwarnings(\"ignore\")\n",
    "import matplotlib.pyplot as plt\n",
    "import seaborn as sns\n",
    "import pickle\n",
    "%matplotlib inline"
   ]
  },
  {
   "cell_type": "code",
   "execution_count": 2,
   "metadata": {},
   "outputs": [],
   "source": [
    "from kmodes.kmodes import KModes\n",
    "RANDOM =42\n"
   ]
  },
  {
   "cell_type": "markdown",
   "metadata": {},
   "source": [
    "#### Reference\n",
    "1. https://github.com/nicodv/kmodes/blob/master/kmodes/kmodes.py\n",
    "2. https://www.kaggle.com/ashydv/bank-customer-clustering-k-modes-clustering/comments"
   ]
  },
  {
   "cell_type": "markdown",
   "metadata": {},
   "source": [
    "## Load Data"
   ]
  },
  {
   "cell_type": "code",
   "execution_count": 3,
   "metadata": {},
   "outputs": [],
   "source": [
    "app_df = pd.read_csv('https://drive.google.com/uc?id=1mPK8_AasPMdqy3D9D0kxjjKcIXmhhcQo').set_index('userid')\n",
    "bc_df = pd.read_csv('https://drive.google.com/uc?id=1sovKLesEqPbkUte_ysRP9mGQ1gFCO2ME').set_index('userid')"
   ]
  },
  {
   "cell_type": "markdown",
   "metadata": {},
   "source": [
    "## Check dataset"
   ]
  },
  {
   "cell_type": "code",
   "execution_count": 4,
   "metadata": {},
   "outputs": [
    {
     "name": "stdout",
     "output_type": "stream",
     "text": [
      "<class 'pandas.core.frame.DataFrame'>\n",
      "Index: 1250 entries, 95030aef3e970680d882f1527f549d9e to 808dc4e3f1546a46cdd135b000ced0dd\n",
      "Data columns (total 12 columns):\n",
      " #   Column                   Non-Null Count  Dtype \n",
      "---  ------                   --------------  ----- \n",
      " 0   school                   1250 non-null   object\n",
      " 1   other_school             109 non-null    object\n",
      " 2   majors                   1250 non-null   object\n",
      " 3   minors                   1250 non-null   object\n",
      " 4   age_bin                  1250 non-null   object\n",
      " 5   classification           1250 non-null   object\n",
      " 6   first_generation         1250 non-null   bool  \n",
      " 7   datascience_experience   1250 non-null   int64 \n",
      " 8   technology_experience    1250 non-null   object\n",
      " 9   num_hackathons_attended  1250 non-null   object\n",
      " 10  workshop_suggestions     410 non-null    object\n",
      " 11  relavent_industries      1250 non-null   object\n",
      "dtypes: bool(1), int64(1), object(10)\n",
      "memory usage: 118.4+ KB\n"
     ]
    }
   ],
   "source": [
    "app_df.info()"
   ]
  },
  {
   "cell_type": "markdown",
   "metadata": {},
   "source": [
    "## Data clean\n",
    "\n",
    "* some columns are objects that contain with bracket like major, minor, first we use eval() to let python treat than as list and than use pop() and explode() to extract infos inside the list.\n",
    "\n",
    "* A key to use k-modes is to limit the number of categories, so for those with huge category numbers, we may have to trim down to a small amount.\n",
    "\n",
    "* Finally transform data into one-hot-labeled format\n"
   ]
  },
  {
   "cell_type": "code",
   "execution_count": 13,
   "metadata": {},
   "outputs": [],
   "source": [
    "\n",
    "app_df['major_with_minor'] = app_df['majors'].apply(eval)+app_df['minors'].apply(eval)\n",
    "\n",
    "#df1 = app_df['major_with_minor'].explode()\n",
    "df1 = app_df.pop('major_with_minor').explode()\n",
    "majors_df = pd.crosstab(df1.index, df1)\n",
    "\n",
    "\n",
    "\n",
    "bc = pd.crosstab(bc_df.index,bc_df.workshop)\n",
    "\n",
    "df3 = app_df.pop('technology_experience').apply(eval).explode()\n",
    "tech_df = pd.crosstab(df3.index,df3)\n",
    "\n",
    "df4 = app_df.pop('relavent_industries').apply(eval).explode()\n",
    "ind_df = pd.crosstab(df4.index,df4)\n",
    "\n",
    "lst = app_df['school'].value_counts()[:10].index.tolist()\n",
    "\n",
    "app_df['school'] = pd.Categorical(app_df['school'].values.tolist(),categories=lst)\n",
    "app_df['school'].fillna('Other',inplace =True)\n",
    "\n",
    "app_df['A&M_student'] = (app_df['school'] =='Texas A&M University').replace({True:1,False:0}).astype('category')\n",
    "\n",
    "app_df['with_suggestion'] = (app_df['workshop_suggestions'].notna()).replace({True:1,False:0}).astype('category')\n",
    "\n",
    "#app_df['first_generation'] = app_df['first_generation'].replace{{True:1,False:0}}\n",
    "\n",
    "app_df['num_hackathons_attended'] = app_df['num_hackathons_attended'].astype('category')\n",
    "\n",
    "app_df['datascience_experience'] =app_df['datascience_experience'].astype('category')\n",
    "\n",
    "app_df['first_generation'] =app_df['first_generation'].astype('category')\n",
    "\n",
    "# data clean\n",
    "#app_df.drop(columns=['workshop_suggestions','other_school','majors','minors','first_generation'],inplace=True)\n",
    "app_df.drop(columns=['school','workshop_suggestions','other_school','majors','minors','first_generation'],inplace=True)\n",
    "\n",
    "#app_df.info()\n",
    "\n",
    "app_df = pd.get_dummies(app_df,drop_first=True,dummy_na=True)\n",
    "\n",
    "app_df = app_df.join(majors_df)\n",
    "app_df = app_df.join(bc)\n",
    "app_df = app_df.join(tech_df)\n",
    "app_df = app_df.join(ind_df)"
   ]
  },
  {
   "cell_type": "code",
   "execution_count": 14,
   "metadata": {},
   "outputs": [
    {
     "data": {
      "text/html": [
       "<div>\n",
       "<style scoped>\n",
       "    .dataframe tbody tr th:only-of-type {\n",
       "        vertical-align: middle;\n",
       "    }\n",
       "\n",
       "    .dataframe tbody tr th {\n",
       "        vertical-align: top;\n",
       "    }\n",
       "\n",
       "    .dataframe thead th {\n",
       "        text-align: right;\n",
       "    }\n",
       "</style>\n",
       "<table border=\"1\" class=\"dataframe\">\n",
       "  <thead>\n",
       "    <tr style=\"text-align: right;\">\n",
       "      <th></th>\n",
       "      <th>age_bin_(18, 20]</th>\n",
       "      <th>age_bin_(20, 22]</th>\n",
       "      <th>age_bin_(22, 25]</th>\n",
       "      <th>age_bin_(25, 30]</th>\n",
       "      <th>age_bin_(30, 50]</th>\n",
       "      <th>age_bin_nan</th>\n",
       "      <th>classification_Jr</th>\n",
       "      <th>classification_Ma</th>\n",
       "      <th>classification_O</th>\n",
       "      <th>classification_PhD</th>\n",
       "      <th>...</th>\n",
       "      <th>energy</th>\n",
       "      <th>finance</th>\n",
       "      <th>healthcare</th>\n",
       "      <th>insurance</th>\n",
       "      <th>other</th>\n",
       "      <th>public_policy</th>\n",
       "      <th>retail</th>\n",
       "      <th>sports</th>\n",
       "      <th>technology</th>\n",
       "      <th>transportation</th>\n",
       "    </tr>\n",
       "    <tr>\n",
       "      <th>userid</th>\n",
       "      <th></th>\n",
       "      <th></th>\n",
       "      <th></th>\n",
       "      <th></th>\n",
       "      <th></th>\n",
       "      <th></th>\n",
       "      <th></th>\n",
       "      <th></th>\n",
       "      <th></th>\n",
       "      <th></th>\n",
       "      <th></th>\n",
       "      <th></th>\n",
       "      <th></th>\n",
       "      <th></th>\n",
       "      <th></th>\n",
       "      <th></th>\n",
       "      <th></th>\n",
       "      <th></th>\n",
       "      <th></th>\n",
       "      <th></th>\n",
       "      <th></th>\n",
       "    </tr>\n",
       "  </thead>\n",
       "  <tbody>\n",
       "    <tr>\n",
       "      <th>95030aef3e970680d882f1527f549d9e</th>\n",
       "      <td>0</td>\n",
       "      <td>0</td>\n",
       "      <td>0</td>\n",
       "      <td>1</td>\n",
       "      <td>0</td>\n",
       "      <td>0</td>\n",
       "      <td>0</td>\n",
       "      <td>1</td>\n",
       "      <td>0</td>\n",
       "      <td>0</td>\n",
       "      <td>...</td>\n",
       "      <td>0.0</td>\n",
       "      <td>0.0</td>\n",
       "      <td>0.0</td>\n",
       "      <td>0.0</td>\n",
       "      <td>1.0</td>\n",
       "      <td>1.0</td>\n",
       "      <td>0.0</td>\n",
       "      <td>0.0</td>\n",
       "      <td>0.0</td>\n",
       "      <td>0.0</td>\n",
       "    </tr>\n",
       "    <tr>\n",
       "      <th>68ad76832a913de0d62df103b3d5b807</th>\n",
       "      <td>1</td>\n",
       "      <td>0</td>\n",
       "      <td>0</td>\n",
       "      <td>0</td>\n",
       "      <td>0</td>\n",
       "      <td>0</td>\n",
       "      <td>1</td>\n",
       "      <td>0</td>\n",
       "      <td>0</td>\n",
       "      <td>0</td>\n",
       "      <td>...</td>\n",
       "      <td>0.0</td>\n",
       "      <td>0.0</td>\n",
       "      <td>1.0</td>\n",
       "      <td>1.0</td>\n",
       "      <td>0.0</td>\n",
       "      <td>1.0</td>\n",
       "      <td>0.0</td>\n",
       "      <td>0.0</td>\n",
       "      <td>1.0</td>\n",
       "      <td>0.0</td>\n",
       "    </tr>\n",
       "    <tr>\n",
       "      <th>959d8992667c8bfc1ac665f234360eb6</th>\n",
       "      <td>0</td>\n",
       "      <td>0</td>\n",
       "      <td>1</td>\n",
       "      <td>0</td>\n",
       "      <td>0</td>\n",
       "      <td>0</td>\n",
       "      <td>0</td>\n",
       "      <td>1</td>\n",
       "      <td>0</td>\n",
       "      <td>0</td>\n",
       "      <td>...</td>\n",
       "      <td>0.0</td>\n",
       "      <td>0.0</td>\n",
       "      <td>0.0</td>\n",
       "      <td>0.0</td>\n",
       "      <td>0.0</td>\n",
       "      <td>0.0</td>\n",
       "      <td>0.0</td>\n",
       "      <td>0.0</td>\n",
       "      <td>1.0</td>\n",
       "      <td>0.0</td>\n",
       "    </tr>\n",
       "    <tr>\n",
       "      <th>76b067cd5f3e1b1976d2e2eeceedf567</th>\n",
       "      <td>1</td>\n",
       "      <td>0</td>\n",
       "      <td>0</td>\n",
       "      <td>0</td>\n",
       "      <td>0</td>\n",
       "      <td>0</td>\n",
       "      <td>1</td>\n",
       "      <td>0</td>\n",
       "      <td>0</td>\n",
       "      <td>0</td>\n",
       "      <td>...</td>\n",
       "      <td>0.0</td>\n",
       "      <td>0.0</td>\n",
       "      <td>1.0</td>\n",
       "      <td>0.0</td>\n",
       "      <td>0.0</td>\n",
       "      <td>0.0</td>\n",
       "      <td>0.0</td>\n",
       "      <td>0.0</td>\n",
       "      <td>1.0</td>\n",
       "      <td>0.0</td>\n",
       "    </tr>\n",
       "    <tr>\n",
       "      <th>f44cfb96520a82e172ce2ae116b21187</th>\n",
       "      <td>0</td>\n",
       "      <td>0</td>\n",
       "      <td>1</td>\n",
       "      <td>0</td>\n",
       "      <td>0</td>\n",
       "      <td>0</td>\n",
       "      <td>0</td>\n",
       "      <td>0</td>\n",
       "      <td>0</td>\n",
       "      <td>0</td>\n",
       "      <td>...</td>\n",
       "      <td>NaN</td>\n",
       "      <td>NaN</td>\n",
       "      <td>NaN</td>\n",
       "      <td>NaN</td>\n",
       "      <td>NaN</td>\n",
       "      <td>NaN</td>\n",
       "      <td>NaN</td>\n",
       "      <td>NaN</td>\n",
       "      <td>NaN</td>\n",
       "      <td>NaN</td>\n",
       "    </tr>\n",
       "  </tbody>\n",
       "</table>\n",
       "<p>5 rows × 133 columns</p>\n",
       "</div>"
      ],
      "text/plain": [
       "                                  age_bin_(18, 20]  age_bin_(20, 22]  \\\n",
       "userid                                                                 \n",
       "95030aef3e970680d882f1527f549d9e                 0                 0   \n",
       "68ad76832a913de0d62df103b3d5b807                 1                 0   \n",
       "959d8992667c8bfc1ac665f234360eb6                 0                 0   \n",
       "76b067cd5f3e1b1976d2e2eeceedf567                 1                 0   \n",
       "f44cfb96520a82e172ce2ae116b21187                 0                 0   \n",
       "\n",
       "                                  age_bin_(22, 25]  age_bin_(25, 30]  \\\n",
       "userid                                                                 \n",
       "95030aef3e970680d882f1527f549d9e                 0                 1   \n",
       "68ad76832a913de0d62df103b3d5b807                 0                 0   \n",
       "959d8992667c8bfc1ac665f234360eb6                 1                 0   \n",
       "76b067cd5f3e1b1976d2e2eeceedf567                 0                 0   \n",
       "f44cfb96520a82e172ce2ae116b21187                 1                 0   \n",
       "\n",
       "                                  age_bin_(30, 50]  age_bin_nan  \\\n",
       "userid                                                            \n",
       "95030aef3e970680d882f1527f549d9e                 0            0   \n",
       "68ad76832a913de0d62df103b3d5b807                 0            0   \n",
       "959d8992667c8bfc1ac665f234360eb6                 0            0   \n",
       "76b067cd5f3e1b1976d2e2eeceedf567                 0            0   \n",
       "f44cfb96520a82e172ce2ae116b21187                 0            0   \n",
       "\n",
       "                                  classification_Jr  classification_Ma  \\\n",
       "userid                                                                   \n",
       "95030aef3e970680d882f1527f549d9e                  0                  1   \n",
       "68ad76832a913de0d62df103b3d5b807                  1                  0   \n",
       "959d8992667c8bfc1ac665f234360eb6                  0                  1   \n",
       "76b067cd5f3e1b1976d2e2eeceedf567                  1                  0   \n",
       "f44cfb96520a82e172ce2ae116b21187                  0                  0   \n",
       "\n",
       "                                  classification_O  classification_PhD  ...  \\\n",
       "userid                                                                  ...   \n",
       "95030aef3e970680d882f1527f549d9e                 0                   0  ...   \n",
       "68ad76832a913de0d62df103b3d5b807                 0                   0  ...   \n",
       "959d8992667c8bfc1ac665f234360eb6                 0                   0  ...   \n",
       "76b067cd5f3e1b1976d2e2eeceedf567                 0                   0  ...   \n",
       "f44cfb96520a82e172ce2ae116b21187                 0                   0  ...   \n",
       "\n",
       "                                  energy  finance  healthcare  insurance  \\\n",
       "userid                                                                     \n",
       "95030aef3e970680d882f1527f549d9e     0.0      0.0         0.0        0.0   \n",
       "68ad76832a913de0d62df103b3d5b807     0.0      0.0         1.0        1.0   \n",
       "959d8992667c8bfc1ac665f234360eb6     0.0      0.0         0.0        0.0   \n",
       "76b067cd5f3e1b1976d2e2eeceedf567     0.0      0.0         1.0        0.0   \n",
       "f44cfb96520a82e172ce2ae116b21187     NaN      NaN         NaN        NaN   \n",
       "\n",
       "                                  other  public_policy  retail  sports  \\\n",
       "userid                                                                   \n",
       "95030aef3e970680d882f1527f549d9e    1.0            1.0     0.0     0.0   \n",
       "68ad76832a913de0d62df103b3d5b807    0.0            1.0     0.0     0.0   \n",
       "959d8992667c8bfc1ac665f234360eb6    0.0            0.0     0.0     0.0   \n",
       "76b067cd5f3e1b1976d2e2eeceedf567    0.0            0.0     0.0     0.0   \n",
       "f44cfb96520a82e172ce2ae116b21187    NaN            NaN     NaN     NaN   \n",
       "\n",
       "                                  technology  transportation  \n",
       "userid                                                        \n",
       "95030aef3e970680d882f1527f549d9e         0.0             0.0  \n",
       "68ad76832a913de0d62df103b3d5b807         1.0             0.0  \n",
       "959d8992667c8bfc1ac665f234360eb6         1.0             0.0  \n",
       "76b067cd5f3e1b1976d2e2eeceedf567         1.0             0.0  \n",
       "f44cfb96520a82e172ce2ae116b21187         NaN             NaN  \n",
       "\n",
       "[5 rows x 133 columns]"
      ]
     },
     "execution_count": 14,
     "metadata": {},
     "output_type": "execute_result"
    }
   ],
   "source": [
    "app_df.head()"
   ]
  },
  {
   "cell_type": "markdown",
   "metadata": {},
   "source": [
    "## Clustering"
   ]
  },
  {
   "cell_type": "code",
   "execution_count": 15,
   "metadata": {},
   "outputs": [],
   "source": [
    "# fill null value \n",
    "app_df.fillna(0,inplace=True)"
   ]
  },
  {
   "cell_type": "code",
   "execution_count": 16,
   "metadata": {},
   "outputs": [],
   "source": [
    "x = app_df.to_numpy()\n",
    "y = app_df.index.to_numpy()"
   ]
  },
  {
   "cell_type": "code",
   "execution_count": 17,
   "metadata": {},
   "outputs": [],
   "source": [
    "cost = []\n",
    "for num_clusters in list(range(2,11)):\n",
    "    kmode = KModes(n_clusters=num_clusters, init='Cao', n_init=1, verbose=0,random_state=RANDOM)\n",
    "    kmode.fit_predict(x)\n",
    "    cost.append(kmode.cost_)"
   ]
  },
  {
   "cell_type": "code",
   "execution_count": 18,
   "metadata": {},
   "outputs": [
    {
     "data": {
      "text/plain": [
       "Text(0, 0.5, 'cost')"
      ]
     },
     "execution_count": 18,
     "metadata": {},
     "output_type": "execute_result"
    },
    {
     "data": {
      "image/png": "[encoded data removed]",
      "text/plain": [
       "<Figure size 432x288 with 1 Axes>"
      ]
     },
     "metadata": {
      "needs_background": "light"
     },
     "output_type": "display_data"
    }
   ],
   "source": [
    "sns.lineplot(y=cost,x =range(2,11,1))\n",
    "plt.xlabel('# of cluster')\n",
    "plt.ylabel('cost')"
   ]
  },
  {
   "cell_type": "code",
   "execution_count": 19,
   "metadata": {},
   "outputs": [],
   "source": [
    "kmode = KModes(n_clusters=5, init='Cao', n_init=1, verbose=0,random_state=RANDOM)\n",
    "cluster = kmode.fit_predict(x)"
   ]
  },
  {
   "cell_type": "code",
   "execution_count": 20,
   "metadata": {},
   "outputs": [
    {
     "data": {
      "text/plain": [
       "0    710\n",
       "3    195\n",
       "4    164\n",
       "2     94\n",
       "1     87\n",
       "dtype: int64"
      ]
     },
     "execution_count": 20,
     "metadata": {},
     "output_type": "execute_result"
    }
   ],
   "source": [
    "pd.Series(cluster).value_counts()"
   ]
  },
  {
   "cell_type": "code",
   "execution_count": 820,
   "metadata": {},
   "outputs": [],
   "source": [
    "with open('kmode.pkl','wb') as f:\n",
    "    pickle.dump(kmode,f)"
   ]
  },
  {
   "cell_type": "code",
   "execution_count": 821,
   "metadata": {},
   "outputs": [
    {
     "data": {
      "text/html": [
       "<div>\n",
       "<style scoped>\n",
       "    .dataframe tbody tr th:only-of-type {\n",
       "        vertical-align: middle;\n",
       "    }\n",
       "\n",
       "    .dataframe tbody tr th {\n",
       "        vertical-align: top;\n",
       "    }\n",
       "\n",
       "    .dataframe thead th {\n",
       "        text-align: right;\n",
       "    }\n",
       "</style>\n",
       "<table border=\"1\" class=\"dataframe\">\n",
       "  <thead>\n",
       "    <tr style=\"text-align: right;\">\n",
       "      <th></th>\n",
       "      <th>age_bin_(18, 20]</th>\n",
       "      <th>age_bin_(20, 22]</th>\n",
       "      <th>age_bin_(22, 25]</th>\n",
       "      <th>age_bin_(25, 30]</th>\n",
       "      <th>age_bin_(30, 50]</th>\n",
       "      <th>age_bin_nan</th>\n",
       "      <th>classification_Jr</th>\n",
       "      <th>classification_Ma</th>\n",
       "      <th>classification_O</th>\n",
       "      <th>classification_PhD</th>\n",
       "      <th>...</th>\n",
       "      <th>energy</th>\n",
       "      <th>finance</th>\n",
       "      <th>healthcare</th>\n",
       "      <th>insurance</th>\n",
       "      <th>other</th>\n",
       "      <th>public_policy</th>\n",
       "      <th>retail</th>\n",
       "      <th>sports</th>\n",
       "      <th>technology</th>\n",
       "      <th>transportation</th>\n",
       "    </tr>\n",
       "  </thead>\n",
       "  <tbody>\n",
       "    <tr>\n",
       "      <td>0</td>\n",
       "      <td>0.0</td>\n",
       "      <td>0.0</td>\n",
       "      <td>0.0</td>\n",
       "      <td>0.0</td>\n",
       "      <td>0.0</td>\n",
       "      <td>0.0</td>\n",
       "      <td>0.0</td>\n",
       "      <td>0.0</td>\n",
       "      <td>0.0</td>\n",
       "      <td>0.0</td>\n",
       "      <td>...</td>\n",
       "      <td>0.0</td>\n",
       "      <td>0.0</td>\n",
       "      <td>0.0</td>\n",
       "      <td>0.0</td>\n",
       "      <td>0.0</td>\n",
       "      <td>0.0</td>\n",
       "      <td>0.0</td>\n",
       "      <td>0.0</td>\n",
       "      <td>1.0</td>\n",
       "      <td>0.0</td>\n",
       "    </tr>\n",
       "    <tr>\n",
       "      <td>1</td>\n",
       "      <td>0.0</td>\n",
       "      <td>0.0</td>\n",
       "      <td>0.0</td>\n",
       "      <td>0.0</td>\n",
       "      <td>0.0</td>\n",
       "      <td>0.0</td>\n",
       "      <td>0.0</td>\n",
       "      <td>1.0</td>\n",
       "      <td>0.0</td>\n",
       "      <td>0.0</td>\n",
       "      <td>...</td>\n",
       "      <td>0.0</td>\n",
       "      <td>0.0</td>\n",
       "      <td>0.0</td>\n",
       "      <td>0.0</td>\n",
       "      <td>0.0</td>\n",
       "      <td>0.0</td>\n",
       "      <td>0.0</td>\n",
       "      <td>0.0</td>\n",
       "      <td>1.0</td>\n",
       "      <td>0.0</td>\n",
       "    </tr>\n",
       "    <tr>\n",
       "      <td>2</td>\n",
       "      <td>0.0</td>\n",
       "      <td>0.0</td>\n",
       "      <td>0.0</td>\n",
       "      <td>0.0</td>\n",
       "      <td>0.0</td>\n",
       "      <td>0.0</td>\n",
       "      <td>0.0</td>\n",
       "      <td>0.0</td>\n",
       "      <td>0.0</td>\n",
       "      <td>0.0</td>\n",
       "      <td>...</td>\n",
       "      <td>0.0</td>\n",
       "      <td>0.0</td>\n",
       "      <td>0.0</td>\n",
       "      <td>0.0</td>\n",
       "      <td>0.0</td>\n",
       "      <td>0.0</td>\n",
       "      <td>0.0</td>\n",
       "      <td>0.0</td>\n",
       "      <td>1.0</td>\n",
       "      <td>0.0</td>\n",
       "    </tr>\n",
       "    <tr>\n",
       "      <td>3</td>\n",
       "      <td>1.0</td>\n",
       "      <td>0.0</td>\n",
       "      <td>0.0</td>\n",
       "      <td>0.0</td>\n",
       "      <td>0.0</td>\n",
       "      <td>0.0</td>\n",
       "      <td>1.0</td>\n",
       "      <td>0.0</td>\n",
       "      <td>0.0</td>\n",
       "      <td>0.0</td>\n",
       "      <td>...</td>\n",
       "      <td>0.0</td>\n",
       "      <td>0.0</td>\n",
       "      <td>0.0</td>\n",
       "      <td>0.0</td>\n",
       "      <td>0.0</td>\n",
       "      <td>0.0</td>\n",
       "      <td>0.0</td>\n",
       "      <td>0.0</td>\n",
       "      <td>1.0</td>\n",
       "      <td>0.0</td>\n",
       "    </tr>\n",
       "    <tr>\n",
       "      <td>4</td>\n",
       "      <td>0.0</td>\n",
       "      <td>0.0</td>\n",
       "      <td>0.0</td>\n",
       "      <td>0.0</td>\n",
       "      <td>0.0</td>\n",
       "      <td>0.0</td>\n",
       "      <td>0.0</td>\n",
       "      <td>1.0</td>\n",
       "      <td>0.0</td>\n",
       "      <td>0.0</td>\n",
       "      <td>...</td>\n",
       "      <td>0.0</td>\n",
       "      <td>0.0</td>\n",
       "      <td>0.0</td>\n",
       "      <td>0.0</td>\n",
       "      <td>0.0</td>\n",
       "      <td>0.0</td>\n",
       "      <td>0.0</td>\n",
       "      <td>0.0</td>\n",
       "      <td>0.0</td>\n",
       "      <td>0.0</td>\n",
       "    </tr>\n",
       "  </tbody>\n",
       "</table>\n",
       "<p>5 rows × 133 columns</p>\n",
       "</div>"
      ],
      "text/plain": [
       "   age_bin_(18, 20]  age_bin_(20, 22]  age_bin_(22, 25]  age_bin_(25, 30]  \\\n",
       "0               0.0               0.0               0.0               0.0   \n",
       "1               0.0               0.0               0.0               0.0   \n",
       "2               0.0               0.0               0.0               0.0   \n",
       "3               1.0               0.0               0.0               0.0   \n",
       "4               0.0               0.0               0.0               0.0   \n",
       "\n",
       "   age_bin_(30, 50]  age_bin_nan  classification_Jr  classification_Ma  \\\n",
       "0               0.0          0.0                0.0                0.0   \n",
       "1               0.0          0.0                0.0                1.0   \n",
       "2               0.0          0.0                0.0                0.0   \n",
       "3               0.0          0.0                1.0                0.0   \n",
       "4               0.0          0.0                0.0                1.0   \n",
       "\n",
       "   classification_O  classification_PhD  ...  energy  finance  healthcare  \\\n",
       "0               0.0                 0.0  ...     0.0      0.0         0.0   \n",
       "1               0.0                 0.0  ...     0.0      0.0         0.0   \n",
       "2               0.0                 0.0  ...     0.0      0.0         0.0   \n",
       "3               0.0                 0.0  ...     0.0      0.0         0.0   \n",
       "4               0.0                 0.0  ...     0.0      0.0         0.0   \n",
       "\n",
       "   insurance  other  public_policy  retail  sports  technology  transportation  \n",
       "0        0.0    0.0            0.0     0.0     0.0         1.0             0.0  \n",
       "1        0.0    0.0            0.0     0.0     0.0         1.0             0.0  \n",
       "2        0.0    0.0            0.0     0.0     0.0         1.0             0.0  \n",
       "3        0.0    0.0            0.0     0.0     0.0         1.0             0.0  \n",
       "4        0.0    0.0            0.0     0.0     0.0         0.0             0.0  \n",
       "\n",
       "[5 rows x 133 columns]"
      ]
     },
     "execution_count": 821,
     "metadata": {},
     "output_type": "execute_result"
    }
   ],
   "source": [
    "# save centriod of modes\n",
    "km_h_df = pd.DataFrame(kmode.cluster_centroids_,columns=app_df.columns)\n",
    "km_h_df"
   ]
  },
  {
   "cell_type": "markdown",
   "metadata": {},
   "source": [
    "## Check each cluster\n",
    "\n",
    "* First Cluster\n",
    "    - The first cluster including the students that are mostly from TAMU CS major.\n",
    "* Second Cluster\n",
    "    - The second cluster including the students that are more highly focus on __ML and DL python libraries__.\n",
    "* Third Cluster\n",
    "    - The Third cluster including the __TAMU__ students that are more highly focus on ML and DL techniques.\n",
    "* Fourth Cluster\n",
    "    - The Fourth cluster including  __CS students that are  not from TAMU__.\n",
    "* Fifth Cluster\n",
    "    - The Fifth cluster including TAMU students that are not CS major but familiar with data processing packages."
   ]
  },
  {
   "cell_type": "code",
   "execution_count": 26,
   "metadata": {},
   "outputs": [],
   "source": [
    "app_df['cluster']=cluster"
   ]
  },
  {
   "cell_type": "code",
   "execution_count": 45,
   "metadata": {},
   "outputs": [
    {
     "data": {
      "text/plain": [
       "A&M_student_1.0                   477.0\n",
       "Python                            467.0\n",
       "Computer Science & Engineering    415.0\n",
       "Excel                             359.0\n",
       "technology                        357.0\n",
       "datascience_experience_1.0        286.0\n",
       "age_bin_(18, 20]                  254.0\n",
       "datascience_experience_2.0        199.0\n",
       "num_hackathons_attended_1-3       191.0\n",
       "with_suggestion_1.0               175.0\n",
       "dtype: float64"
      ]
     },
     "execution_count": 45,
     "metadata": {},
     "output_type": "execute_result"
    }
   ],
   "source": [
    "app_df.loc[app_df['cluster']==0,].sum(axis=0).sort_values(ascending =False).head(10)"
   ]
  },
  {
   "cell_type": "markdown",
   "metadata": {},
   "source": [
    "* First Cluster\n",
    "    - The first cluster including the students that are mostly from TAMU CS major or technology background."
   ]
  },
  {
   "cell_type": "code",
   "execution_count": 47,
   "metadata": {},
   "outputs": [
    {
     "data": {
      "text/plain": [
       "Python          86.0\n",
       "NumPy           83.0\n",
       "Pandas          81.0\n",
       "Scikit-learn    80.0\n",
       "TensorFlow      76.0\n",
       "Keras           69.0\n",
       "technology      68.0\n",
       "cloud           68.0\n",
       "SQL             66.0\n",
       "R               58.0\n",
       "dtype: float64"
      ]
     },
     "execution_count": 47,
     "metadata": {},
     "output_type": "execute_result"
    }
   ],
   "source": [
    "app_df[app_df['cluster']==1].iloc[:,:-1].sum(axis=0).sort_values(ascending =False).head(10)"
   ]
  },
  {
   "cell_type": "markdown",
   "metadata": {},
   "source": [
    "* Second Cluster\n",
    "    - The second cluster including the students that are more highly focus on __ML and DL python libraries__."
   ]
  },
  {
   "cell_type": "code",
   "execution_count": 48,
   "metadata": {},
   "outputs": [
    {
     "data": {
      "text/plain": [
       "Python                        94.0\n",
       "NumPy                         90.0\n",
       "Pandas                        88.0\n",
       "Scikit-learn                  88.0\n",
       "datascience_experience_2.0    77.0\n",
       "TensorFlow                    73.0\n",
       "Keras                         71.0\n",
       "technology                    71.0\n",
       "A&M_student_1.0               66.0\n",
       "MATLAB                        61.0\n",
       "dtype: float64"
      ]
     },
     "execution_count": 48,
     "metadata": {},
     "output_type": "execute_result"
    }
   ],
   "source": [
    "app_df[app_df['cluster']==2].iloc[:,:-1].sum(axis=0).sort_values(ascending =False).head(10)"
   ]
  },
  {
   "cell_type": "markdown",
   "metadata": {},
   "source": [
    "* Third Cluster\n",
    "    - The Third cluster including the __TAMU__ students that are more highly focus on ML and DL techniques."
   ]
  },
  {
   "cell_type": "code",
   "execution_count": 49,
   "metadata": {},
   "outputs": [
    {
     "data": {
      "text/plain": [
       "Python                            190.0\n",
       "age_bin_(18, 20]                  159.0\n",
       "NumPy                             157.0\n",
       "Computer Science & Engineering    155.0\n",
       "technology                        146.0\n",
       "Pandas                            136.0\n",
       "num_hackathons_attended_1-3       132.0\n",
       "classification_Jr                 124.0\n",
       "Excel                             124.0\n",
       "datascience_experience_2.0        118.0\n",
       "dtype: float64"
      ]
     },
     "execution_count": 49,
     "metadata": {},
     "output_type": "execute_result"
    }
   ],
   "source": [
    "app_df[app_df['cluster']==3].iloc[:,:-1].sum(axis=0).sort_values(ascending =False).head(10)"
   ]
  },
  {
   "cell_type": "markdown",
   "metadata": {},
   "source": [
    "* Fourth Cluster\n",
    "    - The Fourth cluster including  __CS students that are  not from TAMU__."
   ]
  },
  {
   "cell_type": "code",
   "execution_count": 51,
   "metadata": {},
   "outputs": [
    {
     "data": {
      "text/plain": [
       "Python                        152.0\n",
       "Pandas                        134.0\n",
       "NumPy                         129.0\n",
       "datascience_experience_2.0    122.0\n",
       "SQL                           119.0\n",
       "classification_Ma             115.0\n",
       "A&M_student_1.0               114.0\n",
       "R                             113.0\n",
       "Excel                         103.0\n",
       "Scikit-learn                  101.0\n",
       "dtype: float64"
      ]
     },
     "execution_count": 51,
     "metadata": {},
     "output_type": "execute_result"
    }
   ],
   "source": [
    "app_df[app_df['cluster']==4].iloc[:,:-1].sum(axis=0).sort_values(ascending =False).head(10)"
   ]
  },
  {
   "cell_type": "markdown",
   "metadata": {},
   "source": [
    "* Fifth Cluster\n",
    "    - The Fifth cluster including TAMU students that are not CS major but familiar with data processing packages."
   ]
  },
  {
   "cell_type": "markdown",
   "metadata": {},
   "source": [
    "## Wrap-up"
   ]
  },
  {
   "cell_type": "code",
   "execution_count": 823,
   "metadata": {},
   "outputs": [],
   "source": [
    " def team_mate_suggestion(user_id, num =3):\n",
    "        team_mate=[]\n",
    "        p=[0.05,0.05,0.05,0.05,0.05]\n",
    "        cluster_id = app_df.loc[user_id]['cluster']\n",
    "        p[int(cluster_id)]=0.8 # probability of chosing in this group\n",
    "        cluster_ids =[0.0,1.,2.,3.,4.]\n",
    "        cluster_arr = np.random.choice(cluster_ids,num,p=p)\n",
    "        for i in cluster_arr:\n",
    "            team_mate.append(app_df.groupby('cluster').get_group(cluster_ids[int(i)]).sample(1).index.tolist())\n",
    "        return list(np.squeeze(team_mate))"
   ]
  },
  {
   "cell_type": "code",
   "execution_count": 824,
   "metadata": {},
   "outputs": [
    {
     "data": {
      "text/html": [
       "<div>\n",
       "<style scoped>\n",
       "    .dataframe tbody tr th:only-of-type {\n",
       "        vertical-align: middle;\n",
       "    }\n",
       "\n",
       "    .dataframe tbody tr th {\n",
       "        vertical-align: top;\n",
       "    }\n",
       "\n",
       "    .dataframe thead th {\n",
       "        text-align: right;\n",
       "    }\n",
       "</style>\n",
       "<table border=\"1\" class=\"dataframe\">\n",
       "  <thead>\n",
       "    <tr style=\"text-align: right;\">\n",
       "      <th></th>\n",
       "      <th>age_bin_(18, 20]</th>\n",
       "      <th>age_bin_(20, 22]</th>\n",
       "      <th>age_bin_(22, 25]</th>\n",
       "      <th>age_bin_(25, 30]</th>\n",
       "      <th>age_bin_(30, 50]</th>\n",
       "      <th>age_bin_nan</th>\n",
       "      <th>classification_Jr</th>\n",
       "      <th>classification_Ma</th>\n",
       "      <th>classification_O</th>\n",
       "      <th>classification_PhD</th>\n",
       "      <th>...</th>\n",
       "      <th>finance</th>\n",
       "      <th>healthcare</th>\n",
       "      <th>insurance</th>\n",
       "      <th>other</th>\n",
       "      <th>public_policy</th>\n",
       "      <th>retail</th>\n",
       "      <th>sports</th>\n",
       "      <th>technology</th>\n",
       "      <th>transportation</th>\n",
       "      <th>cluster</th>\n",
       "    </tr>\n",
       "    <tr>\n",
       "      <th>userid</th>\n",
       "      <th></th>\n",
       "      <th></th>\n",
       "      <th></th>\n",
       "      <th></th>\n",
       "      <th></th>\n",
       "      <th></th>\n",
       "      <th></th>\n",
       "      <th></th>\n",
       "      <th></th>\n",
       "      <th></th>\n",
       "      <th></th>\n",
       "      <th></th>\n",
       "      <th></th>\n",
       "      <th></th>\n",
       "      <th></th>\n",
       "      <th></th>\n",
       "      <th></th>\n",
       "      <th></th>\n",
       "      <th></th>\n",
       "      <th></th>\n",
       "      <th></th>\n",
       "    </tr>\n",
       "  </thead>\n",
       "  <tbody>\n",
       "    <tr>\n",
       "      <td>ff18a465594abe4602cf94d8ba03f8bc</td>\n",
       "      <td>0</td>\n",
       "      <td>0</td>\n",
       "      <td>0</td>\n",
       "      <td>1</td>\n",
       "      <td>0</td>\n",
       "      <td>0</td>\n",
       "      <td>0</td>\n",
       "      <td>1</td>\n",
       "      <td>0</td>\n",
       "      <td>0</td>\n",
       "      <td>...</td>\n",
       "      <td>0.0</td>\n",
       "      <td>1.0</td>\n",
       "      <td>0.0</td>\n",
       "      <td>0.0</td>\n",
       "      <td>0.0</td>\n",
       "      <td>0.0</td>\n",
       "      <td>0.0</td>\n",
       "      <td>0.0</td>\n",
       "      <td>0.0</td>\n",
       "      <td>4</td>\n",
       "    </tr>\n",
       "    <tr>\n",
       "      <td>1746fa5a434f37b09db3fa7a40e4eaa7</td>\n",
       "      <td>0</td>\n",
       "      <td>0</td>\n",
       "      <td>1</td>\n",
       "      <td>0</td>\n",
       "      <td>0</td>\n",
       "      <td>0</td>\n",
       "      <td>0</td>\n",
       "      <td>0</td>\n",
       "      <td>0</td>\n",
       "      <td>1</td>\n",
       "      <td>...</td>\n",
       "      <td>1.0</td>\n",
       "      <td>0.0</td>\n",
       "      <td>0.0</td>\n",
       "      <td>0.0</td>\n",
       "      <td>0.0</td>\n",
       "      <td>0.0</td>\n",
       "      <td>0.0</td>\n",
       "      <td>1.0</td>\n",
       "      <td>1.0</td>\n",
       "      <td>0</td>\n",
       "    </tr>\n",
       "    <tr>\n",
       "      <td>10c2ed25110849a368c8ae7cf52cee63</td>\n",
       "      <td>0</td>\n",
       "      <td>0</td>\n",
       "      <td>0</td>\n",
       "      <td>1</td>\n",
       "      <td>0</td>\n",
       "      <td>0</td>\n",
       "      <td>0</td>\n",
       "      <td>0</td>\n",
       "      <td>0</td>\n",
       "      <td>1</td>\n",
       "      <td>...</td>\n",
       "      <td>0.0</td>\n",
       "      <td>1.0</td>\n",
       "      <td>0.0</td>\n",
       "      <td>0.0</td>\n",
       "      <td>0.0</td>\n",
       "      <td>0.0</td>\n",
       "      <td>0.0</td>\n",
       "      <td>0.0</td>\n",
       "      <td>0.0</td>\n",
       "      <td>4</td>\n",
       "    </tr>\n",
       "  </tbody>\n",
       "</table>\n",
       "<p>3 rows × 134 columns</p>\n",
       "</div>"
      ],
      "text/plain": [
       "                                  age_bin_(18, 20]  age_bin_(20, 22]  \\\n",
       "userid                                                                 \n",
       "ff18a465594abe4602cf94d8ba03f8bc                 0                 0   \n",
       "1746fa5a434f37b09db3fa7a40e4eaa7                 0                 0   \n",
       "10c2ed25110849a368c8ae7cf52cee63                 0                 0   \n",
       "\n",
       "                                  age_bin_(22, 25]  age_bin_(25, 30]  \\\n",
       "userid                                                                 \n",
       "ff18a465594abe4602cf94d8ba03f8bc                 0                 1   \n",
       "1746fa5a434f37b09db3fa7a40e4eaa7                 1                 0   \n",
       "10c2ed25110849a368c8ae7cf52cee63                 0                 1   \n",
       "\n",
       "                                  age_bin_(30, 50]  age_bin_nan  \\\n",
       "userid                                                            \n",
       "ff18a465594abe4602cf94d8ba03f8bc                 0            0   \n",
       "1746fa5a434f37b09db3fa7a40e4eaa7                 0            0   \n",
       "10c2ed25110849a368c8ae7cf52cee63                 0            0   \n",
       "\n",
       "                                  classification_Jr  classification_Ma  \\\n",
       "userid                                                                   \n",
       "ff18a465594abe4602cf94d8ba03f8bc                  0                  1   \n",
       "1746fa5a434f37b09db3fa7a40e4eaa7                  0                  0   \n",
       "10c2ed25110849a368c8ae7cf52cee63                  0                  0   \n",
       "\n",
       "                                  classification_O  classification_PhD  ...  \\\n",
       "userid                                                                  ...   \n",
       "ff18a465594abe4602cf94d8ba03f8bc                 0                   0  ...   \n",
       "1746fa5a434f37b09db3fa7a40e4eaa7                 0                   1  ...   \n",
       "10c2ed25110849a368c8ae7cf52cee63                 0                   1  ...   \n",
       "\n",
       "                                  finance  healthcare  insurance  other  \\\n",
       "userid                                                                    \n",
       "ff18a465594abe4602cf94d8ba03f8bc      0.0         1.0        0.0    0.0   \n",
       "1746fa5a434f37b09db3fa7a40e4eaa7      1.0         0.0        0.0    0.0   \n",
       "10c2ed25110849a368c8ae7cf52cee63      0.0         1.0        0.0    0.0   \n",
       "\n",
       "                                  public_policy  retail  sports  technology  \\\n",
       "userid                                                                        \n",
       "ff18a465594abe4602cf94d8ba03f8bc            0.0     0.0     0.0         0.0   \n",
       "1746fa5a434f37b09db3fa7a40e4eaa7            0.0     0.0     0.0         1.0   \n",
       "10c2ed25110849a368c8ae7cf52cee63            0.0     0.0     0.0         0.0   \n",
       "\n",
       "                                  transportation  cluster  \n",
       "userid                                                     \n",
       "ff18a465594abe4602cf94d8ba03f8bc             0.0        4  \n",
       "1746fa5a434f37b09db3fa7a40e4eaa7             1.0        0  \n",
       "10c2ed25110849a368c8ae7cf52cee63             0.0        4  \n",
       "\n",
       "[3 rows x 134 columns]"
      ]
     },
     "execution_count": 824,
     "metadata": {},
     "output_type": "execute_result"
    }
   ],
   "source": [
    "# Demo random pick one people and see the suggestion\n",
    "ppl = app_df.sample(1).index.tolist()[0]\n",
    "app_df.loc[team_mate_suggestion(ppl),]"
   ]
  },
  {
   "cell_type": "code",
   "execution_count": null,
   "metadata": {},
   "outputs": [],
   "source": []
  },
  {
   "cell_type": "code",
   "execution_count": null,
   "metadata": {},
   "outputs": [],
   "source": []
  }
 ],
 "metadata": {
  "kernelspec": {
   "display_name": "Python 3",
   "language": "python",
   "name": "python3"
  },
  "language_info": {
   "codemirror_mode": {
    "name": "ipython",
    "version": 3
   },
   "file_extension": ".py",
   "mimetype": "text/x-python",
   "name": "python",
   "nbconvert_exporter": "python",
   "pygments_lexer": "ipython3",
   "version": "3.7.4"
  }
 },
 "nbformat": 4,
 "nbformat_minor": 4
}
